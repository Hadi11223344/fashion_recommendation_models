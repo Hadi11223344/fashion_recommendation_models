{
 "cells": [
  {
   "cell_type": "code",
   "execution_count": 1,
   "id": "c6121d5f-2029-42c1-8033-a5fd3fd8fac3",
   "metadata": {},
   "outputs": [
    {
     "name": "stderr",
     "output_type": "stream",
     "text": [
      "2025-05-13 20:09:50.504830: I tensorflow/core/util/port.cc:153] oneDNN custom operations are on. You may see slightly different numerical results due to floating-point round-off errors from different computation orders. To turn them off, set the environment variable `TF_ENABLE_ONEDNN_OPTS=0`.\n",
      "2025-05-13 20:09:50.505367: I external/local_xla/xla/tsl/cuda/cudart_stub.cc:32] Could not find cuda drivers on your machine, GPU will not be used.\n",
      "2025-05-13 20:09:50.507641: I external/local_xla/xla/tsl/cuda/cudart_stub.cc:32] Could not find cuda drivers on your machine, GPU will not be used.\n",
      "2025-05-13 20:09:50.513668: E external/local_xla/xla/stream_executor/cuda/cuda_fft.cc:467] Unable to register cuFFT factory: Attempting to register factory for plugin cuFFT when one has already been registered\n",
      "WARNING: All log messages before absl::InitializeLog() is called are written to STDERR\n",
      "E0000 00:00:1747148990.523526  347783 cuda_dnn.cc:8579] Unable to register cuDNN factory: Attempting to register factory for plugin cuDNN when one has already been registered\n",
      "E0000 00:00:1747148990.526400  347783 cuda_blas.cc:1407] Unable to register cuBLAS factory: Attempting to register factory for plugin cuBLAS when one has already been registered\n",
      "W0000 00:00:1747148990.534099  347783 computation_placer.cc:177] computation placer already registered. Please check linkage and avoid linking the same target more than once.\n",
      "W0000 00:00:1747148990.534112  347783 computation_placer.cc:177] computation placer already registered. Please check linkage and avoid linking the same target more than once.\n",
      "W0000 00:00:1747148990.534113  347783 computation_placer.cc:177] computation placer already registered. Please check linkage and avoid linking the same target more than once.\n",
      "W0000 00:00:1747148990.534114  347783 computation_placer.cc:177] computation placer already registered. Please check linkage and avoid linking the same target more than once.\n",
      "2025-05-13 20:09:50.537059: I tensorflow/core/platform/cpu_feature_guard.cc:210] This TensorFlow binary is optimized to use available CPU instructions in performance-critical operations.\n",
      "To enable the following instructions: AVX2 AVX_VNNI FMA, in other operations, rebuild TensorFlow with the appropriate compiler flags.\n"
     ]
    }
   ],
   "source": [
    "import pandas as pd\n",
    "import numpy as np\n",
    "from sklearn.model_selection import train_test_split\n",
    "from sklearn.preprocessing import StandardScaler\n",
    "from tensorflow.keras.models import Sequential\n",
    "from tensorflow.keras.layers import Dense, Dropout, Input, BatchNormalization\n",
    "from tensorflow.keras.utils import to_categorical\n",
    "from tensorflow.keras.callbacks import EarlyStopping\n",
    "from sklearn.metrics import classification_report, confusion_matrix\n",
    "import seaborn as sns\n",
    "import matplotlib.pyplot as plt\n",
    "from sklearn.utils.class_weight import compute_class_weight"
   ]
  },
  {
   "cell_type": "code",
   "execution_count": 2,
   "id": "191d8dd8-31ed-49e1-8489-81c2b7a24535",
   "metadata": {},
   "outputs": [],
   "source": [
    "# Load datasets\n",
    "style_df = pd.read_csv('/home/hammad/fyp/style_prediction_dataset.csv')\n",
    "category_df = pd.read_csv('/home/hammad/fyp/category_prediction_dataset.csv')\n",
    "color_df = pd.read_csv('/home/hammad/fyp/color_prediction_dataset.csv')"
   ]
  },
  {
   "cell_type": "code",
   "execution_count": 3,
   "id": "c28a8021-74dc-4f48-96f8-6b585af579da",
   "metadata": {},
   "outputs": [
    {
     "data": {
      "text/plain": [
       "baseColour_encoded\n",
       "0     4742\n",
       "1     4501\n",
       "10    3759\n",
       "4     2173\n",
       "2     1884\n",
       "9     1572\n",
       "3     1457\n",
       "7      930\n",
       "8      884\n",
       "11     705\n",
       "6      238\n",
       "5      101\n",
       "Name: count, dtype: int64"
      ]
     },
     "execution_count": 3,
     "metadata": {},
     "output_type": "execute_result"
    }
   ],
   "source": [
    "color_df['baseColour_encoded'].value_counts()"
   ]
  },
  {
   "cell_type": "code",
   "execution_count": 4,
   "id": "ea5d3cfd-59ea-4a9f-be37-7b9d11a2eb2e",
   "metadata": {},
   "outputs": [
    {
     "data": {
      "text/html": [
       "<div>\n",
       "<style scoped>\n",
       "    .dataframe tbody tr th:only-of-type {\n",
       "        vertical-align: middle;\n",
       "    }\n",
       "\n",
       "    .dataframe tbody tr th {\n",
       "        vertical-align: top;\n",
       "    }\n",
       "\n",
       "    .dataframe thead th {\n",
       "        text-align: right;\n",
       "    }\n",
       "</style>\n",
       "<table border=\"1\" class=\"dataframe\">\n",
       "  <thead>\n",
       "    <tr style=\"text-align: right;\">\n",
       "      <th></th>\n",
       "      <th>id</th>\n",
       "      <th>0</th>\n",
       "      <th>1</th>\n",
       "      <th>2</th>\n",
       "      <th>3</th>\n",
       "      <th>4</th>\n",
       "      <th>5</th>\n",
       "      <th>6</th>\n",
       "      <th>7</th>\n",
       "      <th>8</th>\n",
       "      <th>...</th>\n",
       "      <th>2039</th>\n",
       "      <th>2040</th>\n",
       "      <th>2041</th>\n",
       "      <th>2042</th>\n",
       "      <th>2043</th>\n",
       "      <th>2044</th>\n",
       "      <th>2045</th>\n",
       "      <th>2046</th>\n",
       "      <th>2047</th>\n",
       "      <th>baseColour_encoded</th>\n",
       "    </tr>\n",
       "  </thead>\n",
       "  <tbody>\n",
       "    <tr>\n",
       "      <th>0</th>\n",
       "      <td>15970</td>\n",
       "      <td>0.325631</td>\n",
       "      <td>0.961932</td>\n",
       "      <td>0.000000</td>\n",
       "      <td>0.549981</td>\n",
       "      <td>0.000000</td>\n",
       "      <td>0.056022</td>\n",
       "      <td>0.508034</td>\n",
       "      <td>0.388490</td>\n",
       "      <td>0.008825</td>\n",
       "      <td>...</td>\n",
       "      <td>0.223776</td>\n",
       "      <td>0.124558</td>\n",
       "      <td>2.046997</td>\n",
       "      <td>0.000000</td>\n",
       "      <td>0.000000</td>\n",
       "      <td>0.433070</td>\n",
       "      <td>0.234684</td>\n",
       "      <td>0.064110</td>\n",
       "      <td>1.254325</td>\n",
       "      <td>1</td>\n",
       "    </tr>\n",
       "    <tr>\n",
       "      <th>1</th>\n",
       "      <td>39386</td>\n",
       "      <td>0.670931</td>\n",
       "      <td>1.461553</td>\n",
       "      <td>0.154584</td>\n",
       "      <td>0.383389</td>\n",
       "      <td>0.460850</td>\n",
       "      <td>0.008900</td>\n",
       "      <td>0.812330</td>\n",
       "      <td>0.004201</td>\n",
       "      <td>0.344588</td>\n",
       "      <td>...</td>\n",
       "      <td>0.065233</td>\n",
       "      <td>1.082466</td>\n",
       "      <td>0.231429</td>\n",
       "      <td>0.107079</td>\n",
       "      <td>0.002723</td>\n",
       "      <td>0.579104</td>\n",
       "      <td>0.000000</td>\n",
       "      <td>0.000000</td>\n",
       "      <td>1.954522</td>\n",
       "      <td>1</td>\n",
       "    </tr>\n",
       "    <tr>\n",
       "      <th>2</th>\n",
       "      <td>21379</td>\n",
       "      <td>0.195744</td>\n",
       "      <td>0.803393</td>\n",
       "      <td>0.004324</td>\n",
       "      <td>2.545139</td>\n",
       "      <td>0.075638</td>\n",
       "      <td>0.109980</td>\n",
       "      <td>2.759297</td>\n",
       "      <td>0.664183</td>\n",
       "      <td>0.075709</td>\n",
       "      <td>...</td>\n",
       "      <td>0.000000</td>\n",
       "      <td>0.000053</td>\n",
       "      <td>0.167400</td>\n",
       "      <td>0.071858</td>\n",
       "      <td>0.000000</td>\n",
       "      <td>0.659216</td>\n",
       "      <td>0.000000</td>\n",
       "      <td>0.110951</td>\n",
       "      <td>3.961849</td>\n",
       "      <td>0</td>\n",
       "    </tr>\n",
       "    <tr>\n",
       "      <th>3</th>\n",
       "      <td>53759</td>\n",
       "      <td>0.096383</td>\n",
       "      <td>1.703673</td>\n",
       "      <td>0.056809</td>\n",
       "      <td>1.617223</td>\n",
       "      <td>0.011546</td>\n",
       "      <td>0.000000</td>\n",
       "      <td>1.127666</td>\n",
       "      <td>0.307086</td>\n",
       "      <td>0.000000</td>\n",
       "      <td>...</td>\n",
       "      <td>0.205928</td>\n",
       "      <td>0.140345</td>\n",
       "      <td>1.801834</td>\n",
       "      <td>0.000000</td>\n",
       "      <td>0.000000</td>\n",
       "      <td>0.082535</td>\n",
       "      <td>0.078035</td>\n",
       "      <td>0.242948</td>\n",
       "      <td>1.523945</td>\n",
       "      <td>4</td>\n",
       "    </tr>\n",
       "    <tr>\n",
       "      <th>4</th>\n",
       "      <td>1855</td>\n",
       "      <td>0.035023</td>\n",
       "      <td>1.326588</td>\n",
       "      <td>0.000000</td>\n",
       "      <td>0.991414</td>\n",
       "      <td>0.000000</td>\n",
       "      <td>0.000000</td>\n",
       "      <td>0.770858</td>\n",
       "      <td>0.419605</td>\n",
       "      <td>0.103250</td>\n",
       "      <td>...</td>\n",
       "      <td>0.004316</td>\n",
       "      <td>0.195267</td>\n",
       "      <td>1.943198</td>\n",
       "      <td>0.046978</td>\n",
       "      <td>0.000000</td>\n",
       "      <td>0.003337</td>\n",
       "      <td>0.024109</td>\n",
       "      <td>0.403093</td>\n",
       "      <td>0.126377</td>\n",
       "      <td>4</td>\n",
       "    </tr>\n",
       "  </tbody>\n",
       "</table>\n",
       "<p>5 rows × 2050 columns</p>\n",
       "</div>"
      ],
      "text/plain": [
       "      id         0         1         2         3         4         5  \\\n",
       "0  15970  0.325631  0.961932  0.000000  0.549981  0.000000  0.056022   \n",
       "1  39386  0.670931  1.461553  0.154584  0.383389  0.460850  0.008900   \n",
       "2  21379  0.195744  0.803393  0.004324  2.545139  0.075638  0.109980   \n",
       "3  53759  0.096383  1.703673  0.056809  1.617223  0.011546  0.000000   \n",
       "4   1855  0.035023  1.326588  0.000000  0.991414  0.000000  0.000000   \n",
       "\n",
       "          6         7         8  ...      2039      2040      2041      2042  \\\n",
       "0  0.508034  0.388490  0.008825  ...  0.223776  0.124558  2.046997  0.000000   \n",
       "1  0.812330  0.004201  0.344588  ...  0.065233  1.082466  0.231429  0.107079   \n",
       "2  2.759297  0.664183  0.075709  ...  0.000000  0.000053  0.167400  0.071858   \n",
       "3  1.127666  0.307086  0.000000  ...  0.205928  0.140345  1.801834  0.000000   \n",
       "4  0.770858  0.419605  0.103250  ...  0.004316  0.195267  1.943198  0.046978   \n",
       "\n",
       "       2043      2044      2045      2046      2047  baseColour_encoded  \n",
       "0  0.000000  0.433070  0.234684  0.064110  1.254325                   1  \n",
       "1  0.002723  0.579104  0.000000  0.000000  1.954522                   1  \n",
       "2  0.000000  0.659216  0.000000  0.110951  3.961849                   0  \n",
       "3  0.000000  0.082535  0.078035  0.242948  1.523945                   4  \n",
       "4  0.000000  0.003337  0.024109  0.403093  0.126377                   4  \n",
       "\n",
       "[5 rows x 2050 columns]"
      ]
     },
     "execution_count": 4,
     "metadata": {},
     "output_type": "execute_result"
    }
   ],
   "source": [
    "color_df.head()"
   ]
  },
  {
   "cell_type": "code",
   "execution_count": 5,
   "id": "1427c70f-b6af-4fe4-ab7b-970a4bcf520c",
   "metadata": {},
   "outputs": [],
   "source": [
    "index_to_color = {\n",
    "    0: 'Black',\n",
    "    1: 'Blue',\n",
    "    2: 'Brown',\n",
    "    3: 'Green',\n",
    "    4: 'Grey',\n",
    "    5: 'Multi',\n",
    "    6: 'Orange',\n",
    "    7: 'Pink',\n",
    "    8: 'Purple',\n",
    "    9: 'Red',\n",
    "    10: 'White',\n",
    "    11: 'Yellow'\n",
    "}"
   ]
  },
  {
   "cell_type": "code",
   "execution_count": 6,
   "id": "f060ac56-b456-4b02-b797-6418a8869d60",
   "metadata": {},
   "outputs": [],
   "source": [
    "def prepare_data(df, label_column):\n",
    "    # Drop non-feature columns (id, label column)\n",
    "    X = df.drop(columns=['id', label_column])\n",
    "    y = df[label_column].values\n",
    "\n",
    "    # Normalize features (gender + 2048 dims)\n",
    "    scaler = StandardScaler()\n",
    "    X_scaled = scaler.fit_transform(X)\n",
    "\n",
    "    # Split\n",
    "    X_train, X_test, y_train, y_test = train_test_split(X_scaled, y, test_size=0.2, stratify=y, random_state=42)\n",
    "\n",
    "    return X_train, X_test, y_train, y_test, scaler\n"
   ]
  },
  {
   "cell_type": "code",
   "execution_count": 7,
   "id": "efeb3da8-2432-4fc8-8354-760da1ae510b",
   "metadata": {},
   "outputs": [],
   "source": [
    "# Generalized class weight calculator\n",
    "def get_class_weights(y_train):\n",
    "    classes = np.unique(y_train)\n",
    "    weights = compute_class_weight(class_weight='balanced', classes=classes, y=y_train)\n",
    "    return dict(zip(classes, weights))\n"
   ]
  },
  {
   "cell_type": "code",
   "execution_count": 8,
   "id": "8f65ee37-675b-420b-b1bd-24b6d7443d3e",
   "metadata": {},
   "outputs": [],
   "source": [
    "def create_mlp_model(input_dim, output_classes):\n",
    "    model = Sequential([\n",
    "        Input(shape=(input_dim,)),\n",
    "        Dense(512, activation='relu'),\n",
    "        Dropout(0.4),\n",
    "        Dense(256, activation='relu'),\n",
    "        Dropout(0.3),\n",
    "        Dense(output_classes, activation='softmax')\n",
    "    ])\n",
    "    model.compile(optimizer='adam',\n",
    "                  loss='sparse_categorical_crossentropy',\n",
    "                  metrics=['accuracy'])\n",
    "    return model"
   ]
  },
  {
   "cell_type": "code",
   "execution_count": 9,
   "id": "ff000aa1-018a-4e23-bb08-b9c446c5c1d6",
   "metadata": {},
   "outputs": [],
   "source": [
    "def create_mlp_model_for_color(input_dim, output_classes):\n",
    "    model = Sequential([\n",
    "        Input(shape=(input_dim,)),\n",
    "        Dense(512, activation='relu'),\n",
    "        BatchNormalization(),\n",
    "        Dropout(0.3),\n",
    "\n",
    "        Dense(256, activation='relu'),\n",
    "        BatchNormalization(),\n",
    "        Dropout(0.3),\n",
    "\n",
    "        Dense(128, activation='relu'),\n",
    "        Dropout(0.2),\n",
    "\n",
    "        Dense(output_classes, activation='softmax')\n",
    "    ])\n",
    "\n",
    "    model.compile(optimizer='adam',\n",
    "                  loss='sparse_categorical_crossentropy',\n",
    "                  metrics=['accuracy'])\n",
    "    return model"
   ]
  },
  {
   "cell_type": "code",
   "execution_count": 10,
   "id": "ffd331dd-ff45-4e4c-b0c1-135f848b578d",
   "metadata": {},
   "outputs": [
    {
     "name": "stderr",
     "output_type": "stream",
     "text": [
      "2025-05-13 20:11:33.965840: E external/local_xla/xla/stream_executor/cuda/cuda_platform.cc:51] failed call to cuInit: INTERNAL: CUDA error: Failed call to cuInit: UNKNOWN ERROR (303)\n"
     ]
    },
    {
     "name": "stdout",
     "output_type": "stream",
     "text": [
      "Epoch 1/50\n",
      "\u001b[1m287/287\u001b[0m \u001b[32m━━━━━━━━━━━━━━━━━━━━\u001b[0m\u001b[37m\u001b[0m \u001b[1m6s\u001b[0m 18ms/step - accuracy: 0.7063 - loss: 0.7607 - val_accuracy: 0.7577 - val_loss: 0.5965\n",
      "Epoch 2/50\n",
      "\u001b[1m287/287\u001b[0m \u001b[32m━━━━━━━━━━━━━━━━━━━━\u001b[0m\u001b[37m\u001b[0m \u001b[1m6s\u001b[0m 19ms/step - accuracy: 0.8060 - loss: 0.3804 - val_accuracy: 0.8150 - val_loss: 0.5070\n",
      "Epoch 3/50\n",
      "\u001b[1m287/287\u001b[0m \u001b[32m━━━━━━━━━━━━━━━━━━━━\u001b[0m\u001b[37m\u001b[0m \u001b[1m5s\u001b[0m 18ms/step - accuracy: 0.8166 - loss: 0.3407 - val_accuracy: 0.7930 - val_loss: 0.4988\n",
      "Epoch 4/50\n",
      "\u001b[1m287/287\u001b[0m \u001b[32m━━━━━━━━━━━━━━━━━━━━\u001b[0m\u001b[37m\u001b[0m \u001b[1m6s\u001b[0m 19ms/step - accuracy: 0.8336 - loss: 0.2949 - val_accuracy: 0.8495 - val_loss: 0.3940\n",
      "Epoch 5/50\n",
      "\u001b[1m287/287\u001b[0m \u001b[32m━━━━━━━━━━━━━━━━━━━━\u001b[0m\u001b[37m\u001b[0m \u001b[1m5s\u001b[0m 19ms/step - accuracy: 0.8514 - loss: 0.2637 - val_accuracy: 0.8516 - val_loss: 0.3690\n",
      "Epoch 6/50\n",
      "\u001b[1m287/287\u001b[0m \u001b[32m━━━━━━━━━━━━━━━━━━━━\u001b[0m\u001b[37m\u001b[0m \u001b[1m6s\u001b[0m 19ms/step - accuracy: 0.8653 - loss: 0.2322 - val_accuracy: 0.8484 - val_loss: 0.3698\n",
      "Epoch 7/50\n",
      "\u001b[1m287/287\u001b[0m \u001b[32m━━━━━━━━━━━━━━━━━━━━\u001b[0m\u001b[37m\u001b[0m \u001b[1m6s\u001b[0m 19ms/step - accuracy: 0.8696 - loss: 0.2267 - val_accuracy: 0.8168 - val_loss: 0.4059\n",
      "Epoch 8/50\n",
      "\u001b[1m287/287\u001b[0m \u001b[32m━━━━━━━━━━━━━━━━━━━━\u001b[0m\u001b[37m\u001b[0m \u001b[1m6s\u001b[0m 19ms/step - accuracy: 0.8745 - loss: 0.2145 - val_accuracy: 0.8649 - val_loss: 0.3530\n",
      "Epoch 9/50\n",
      "\u001b[1m287/287\u001b[0m \u001b[32m━━━━━━━━━━━━━━━━━━━━\u001b[0m\u001b[37m\u001b[0m \u001b[1m5s\u001b[0m 18ms/step - accuracy: 0.8771 - loss: 0.2145 - val_accuracy: 0.8553 - val_loss: 0.3474\n",
      "Epoch 10/50\n",
      "\u001b[1m287/287\u001b[0m \u001b[32m━━━━━━━━━━━━━━━━━━━━\u001b[0m\u001b[37m\u001b[0m \u001b[1m5s\u001b[0m 18ms/step - accuracy: 0.8822 - loss: 0.1916 - val_accuracy: 0.8573 - val_loss: 0.3798\n",
      "Epoch 11/50\n",
      "\u001b[1m287/287\u001b[0m \u001b[32m━━━━━━━━━━━━━━━━━━━━\u001b[0m\u001b[37m\u001b[0m \u001b[1m5s\u001b[0m 19ms/step - accuracy: 0.8922 - loss: 0.1799 - val_accuracy: 0.8769 - val_loss: 0.3471\n",
      "Epoch 12/50\n",
      "\u001b[1m287/287\u001b[0m \u001b[32m━━━━━━━━━━━━━━━━━━━━\u001b[0m\u001b[37m\u001b[0m \u001b[1m6s\u001b[0m 19ms/step - accuracy: 0.9050 - loss: 0.1658 - val_accuracy: 0.8529 - val_loss: 0.3896\n",
      "Epoch 13/50\n",
      "\u001b[1m287/287\u001b[0m \u001b[32m━━━━━━━━━━━━━━━━━━━━\u001b[0m\u001b[37m\u001b[0m \u001b[1m5s\u001b[0m 19ms/step - accuracy: 0.9038 - loss: 0.1636 - val_accuracy: 0.8671 - val_loss: 0.3603\n",
      "Epoch 14/50\n",
      "\u001b[1m287/287\u001b[0m \u001b[32m━━━━━━━━━━━━━━━━━━━━\u001b[0m\u001b[37m\u001b[0m \u001b[1m5s\u001b[0m 18ms/step - accuracy: 0.8979 - loss: 0.1718 - val_accuracy: 0.8603 - val_loss: 0.3888\n",
      "Epoch 15/50\n",
      "\u001b[1m287/287\u001b[0m \u001b[32m━━━━━━━━━━━━━━━━━━━━\u001b[0m\u001b[37m\u001b[0m \u001b[1m5s\u001b[0m 17ms/step - accuracy: 0.9006 - loss: 0.1602 - val_accuracy: 0.8767 - val_loss: 0.3326\n",
      "Epoch 16/50\n",
      "\u001b[1m287/287\u001b[0m \u001b[32m━━━━━━━━━━━━━━━━━━━━\u001b[0m\u001b[37m\u001b[0m \u001b[1m6s\u001b[0m 19ms/step - accuracy: 0.9146 - loss: 0.1468 - val_accuracy: 0.8636 - val_loss: 0.4466\n",
      "Epoch 17/50\n",
      "\u001b[1m287/287\u001b[0m \u001b[32m━━━━━━━━━━━━━━━━━━━━\u001b[0m\u001b[37m\u001b[0m \u001b[1m5s\u001b[0m 19ms/step - accuracy: 0.9154 - loss: 0.1456 - val_accuracy: 0.8584 - val_loss: 0.4368\n",
      "Epoch 18/50\n",
      "\u001b[1m287/287\u001b[0m \u001b[32m━━━━━━━━━━━━━━━━━━━━\u001b[0m\u001b[37m\u001b[0m \u001b[1m6s\u001b[0m 19ms/step - accuracy: 0.9096 - loss: 0.1475 - val_accuracy: 0.8601 - val_loss: 0.4009\n",
      "Epoch 19/50\n",
      "\u001b[1m287/287\u001b[0m \u001b[32m━━━━━━━━━━━━━━━━━━━━\u001b[0m\u001b[37m\u001b[0m \u001b[1m5s\u001b[0m 18ms/step - accuracy: 0.9180 - loss: 0.1411 - val_accuracy: 0.8782 - val_loss: 0.4589\n",
      "Epoch 20/50\n",
      "\u001b[1m287/287\u001b[0m \u001b[32m━━━━━━━━━━━━━━━━━━━━\u001b[0m\u001b[37m\u001b[0m \u001b[1m5s\u001b[0m 18ms/step - accuracy: 0.9287 - loss: 0.1238 - val_accuracy: 0.8845 - val_loss: 0.3774\n"
     ]
    },
    {
     "data": {
      "text/plain": [
       "<keras.src.callbacks.history.History at 0x78b359c935e0>"
      ]
     },
     "execution_count": 10,
     "metadata": {},
     "output_type": "execute_result"
    }
   ],
   "source": [
    "# ========== STYLE MODEL ==========\n",
    "X_train_s, X_test_s, y_train_s, y_test_s, style_scaler = prepare_data(style_df, 'style_label')\n",
    "style_class_weights = get_class_weights(y_train_s)\n",
    "style_model = create_mlp_model(X_train_s.shape[1], output_classes=3)\n",
    "\n",
    "style_model.fit(X_train_s, y_train_s,\n",
    "                validation_data=(X_test_s, y_test_s),\n",
    "                epochs=50,\n",
    "                batch_size=64,\n",
    "                class_weight=style_class_weights,\n",
    "                callbacks=[EarlyStopping(patience=5, restore_best_weights=True)])\n"
   ]
  },
  {
   "cell_type": "code",
   "execution_count": 11,
   "id": "41aa972c-3dd7-4baf-94f8-df70b8c169c2",
   "metadata": {},
   "outputs": [
    {
     "name": "stdout",
     "output_type": "stream",
     "text": [
      "Epoch 1/50\n",
      "\u001b[1m287/287\u001b[0m \u001b[32m━━━━━━━━━━━━━━━━━━━━\u001b[0m\u001b[37m\u001b[0m \u001b[1m6s\u001b[0m 19ms/step - accuracy: 0.9631 - loss: 0.1559 - val_accuracy: 0.9972 - val_loss: 0.0230\n",
      "Epoch 2/50\n",
      "\u001b[1m287/287\u001b[0m \u001b[32m━━━━━━━━━━━━━━━━━━━━\u001b[0m\u001b[37m\u001b[0m \u001b[1m5s\u001b[0m 18ms/step - accuracy: 0.9923 - loss: 0.0508 - val_accuracy: 0.9963 - val_loss: 0.0304\n",
      "Epoch 3/50\n",
      "\u001b[1m287/287\u001b[0m \u001b[32m━━━━━━━━━━━━━━━━━━━━\u001b[0m\u001b[37m\u001b[0m \u001b[1m5s\u001b[0m 19ms/step - accuracy: 0.9969 - loss: 0.0157 - val_accuracy: 0.9969 - val_loss: 0.0202\n",
      "Epoch 4/50\n",
      "\u001b[1m287/287\u001b[0m \u001b[32m━━━━━━━━━━━━━━━━━━━━\u001b[0m\u001b[37m\u001b[0m \u001b[1m5s\u001b[0m 19ms/step - accuracy: 0.9972 - loss: 0.0140 - val_accuracy: 0.9963 - val_loss: 0.0199\n",
      "Epoch 5/50\n",
      "\u001b[1m287/287\u001b[0m \u001b[32m━━━━━━━━━━━━━━━━━━━━\u001b[0m\u001b[37m\u001b[0m \u001b[1m5s\u001b[0m 19ms/step - accuracy: 0.9970 - loss: 0.0113 - val_accuracy: 0.9963 - val_loss: 0.0211\n",
      "Epoch 6/50\n",
      "\u001b[1m287/287\u001b[0m \u001b[32m━━━━━━━━━━━━━━━━━━━━\u001b[0m\u001b[37m\u001b[0m \u001b[1m5s\u001b[0m 18ms/step - accuracy: 0.9975 - loss: 0.0098 - val_accuracy: 0.9978 - val_loss: 0.0162\n",
      "Epoch 7/50\n",
      "\u001b[1m287/287\u001b[0m \u001b[32m━━━━━━━━━━━━━━━━━━━━\u001b[0m\u001b[37m\u001b[0m \u001b[1m5s\u001b[0m 18ms/step - accuracy: 0.9986 - loss: 0.0115 - val_accuracy: 0.9952 - val_loss: 0.0223\n",
      "Epoch 8/50\n",
      "\u001b[1m287/287\u001b[0m \u001b[32m━━━━━━━━━━━━━━━━━━━━\u001b[0m\u001b[37m\u001b[0m \u001b[1m5s\u001b[0m 18ms/step - accuracy: 0.9980 - loss: 0.0082 - val_accuracy: 0.9969 - val_loss: 0.0320\n",
      "Epoch 9/50\n",
      "\u001b[1m287/287\u001b[0m \u001b[32m━━━━━━━━━━━━━━━━━━━━\u001b[0m\u001b[37m\u001b[0m \u001b[1m5s\u001b[0m 18ms/step - accuracy: 0.9977 - loss: 0.0089 - val_accuracy: 0.9969 - val_loss: 0.0269\n",
      "Epoch 10/50\n",
      "\u001b[1m287/287\u001b[0m \u001b[32m━━━━━━━━━━━━━━━━━━━━\u001b[0m\u001b[37m\u001b[0m \u001b[1m5s\u001b[0m 17ms/step - accuracy: 0.9968 - loss: 0.0196 - val_accuracy: 0.9963 - val_loss: 0.0452\n",
      "Epoch 11/50\n",
      "\u001b[1m287/287\u001b[0m \u001b[32m━━━━━━━━━━━━━━━━━━━━\u001b[0m\u001b[37m\u001b[0m \u001b[1m5s\u001b[0m 18ms/step - accuracy: 0.9977 - loss: 0.0132 - val_accuracy: 0.9967 - val_loss: 0.0388\n"
     ]
    },
    {
     "data": {
      "text/plain": [
       "<keras.src.callbacks.history.History at 0x78b35e84cfd0>"
      ]
     },
     "execution_count": 11,
     "metadata": {},
     "output_type": "execute_result"
    }
   ],
   "source": [
    "# ========== CATEGORY MODEL ==========\n",
    "X_train_c, X_test_c, y_train_c, y_test_c, category_scaler = prepare_data(category_df, 'category_label')\n",
    "category_class_weights = get_class_weights(y_train_c)\n",
    "category_model = create_mlp_model(X_train_c.shape[1], output_classes=3)\n",
    "\n",
    "category_model.fit(X_train_c, y_train_c,\n",
    "                   validation_data=(X_test_c, y_test_c),\n",
    "                   epochs=50,\n",
    "                   batch_size=64,\n",
    "                   class_weight=category_class_weights,\n",
    "                   callbacks=[EarlyStopping(patience=5, restore_best_weights=True)])\n"
   ]
  },
  {
   "cell_type": "code",
   "execution_count": 12,
   "id": "4fb41771-2761-4e89-ae64-6ad379ab0052",
   "metadata": {},
   "outputs": [
    {
     "name": "stdout",
     "output_type": "stream",
     "text": [
      "Epoch 1/50\n",
      "\u001b[1m287/287\u001b[0m \u001b[32m━━━━━━━━━━━━━━━━━━━━\u001b[0m\u001b[37m\u001b[0m \u001b[1m7s\u001b[0m 21ms/step - accuracy: 0.3779 - loss: 2.0570 - val_accuracy: 0.6157 - val_loss: 1.1686\n",
      "Epoch 2/50\n",
      "\u001b[1m287/287\u001b[0m \u001b[32m━━━━━━━━━━━━━━━━━━━━\u001b[0m\u001b[37m\u001b[0m \u001b[1m6s\u001b[0m 22ms/step - accuracy: 0.5943 - loss: 1.1737 - val_accuracy: 0.6538 - val_loss: 1.0305\n",
      "Epoch 3/50\n",
      "\u001b[1m287/287\u001b[0m \u001b[32m━━━━━━━━━━━━━━━━━━━━\u001b[0m\u001b[37m\u001b[0m \u001b[1m6s\u001b[0m 22ms/step - accuracy: 0.6379 - loss: 0.9852 - val_accuracy: 0.6871 - val_loss: 0.9484\n",
      "Epoch 4/50\n",
      "\u001b[1m287/287\u001b[0m \u001b[32m━━━━━━━━━━━━━━━━━━━━\u001b[0m\u001b[37m\u001b[0m \u001b[1m6s\u001b[0m 22ms/step - accuracy: 0.6875 - loss: 0.8298 - val_accuracy: 0.6730 - val_loss: 0.9774\n",
      "Epoch 5/50\n",
      "\u001b[1m287/287\u001b[0m \u001b[32m━━━━━━━━━━━━━━━━━━━━\u001b[0m\u001b[37m\u001b[0m \u001b[1m6s\u001b[0m 21ms/step - accuracy: 0.6963 - loss: 0.7760 - val_accuracy: 0.7102 - val_loss: 0.8784\n",
      "Epoch 6/50\n",
      "\u001b[1m287/287\u001b[0m \u001b[32m━━━━━━━━━━━━━━━━━━━━\u001b[0m\u001b[37m\u001b[0m \u001b[1m6s\u001b[0m 22ms/step - accuracy: 0.7251 - loss: 0.6700 - val_accuracy: 0.7155 - val_loss: 0.8807\n",
      "Epoch 7/50\n",
      "\u001b[1m287/287\u001b[0m \u001b[32m━━━━━━━━━━━━━━━━━━━━\u001b[0m\u001b[37m\u001b[0m \u001b[1m6s\u001b[0m 22ms/step - accuracy: 0.7450 - loss: 0.6135 - val_accuracy: 0.7146 - val_loss: 0.8653\n",
      "Epoch 8/50\n",
      "\u001b[1m287/287\u001b[0m \u001b[32m━━━━━━━━━━━━━━━━━━━━\u001b[0m\u001b[37m\u001b[0m \u001b[1m6s\u001b[0m 21ms/step - accuracy: 0.7494 - loss: 0.6049 - val_accuracy: 0.7200 - val_loss: 0.8862\n",
      "Epoch 9/50\n",
      "\u001b[1m287/287\u001b[0m \u001b[32m━━━━━━━━━━━━━━━━━━━━\u001b[0m\u001b[37m\u001b[0m \u001b[1m6s\u001b[0m 22ms/step - accuracy: 0.7619 - loss: 0.5841 - val_accuracy: 0.7277 - val_loss: 0.8756\n",
      "Epoch 10/50\n",
      "\u001b[1m287/287\u001b[0m \u001b[32m━━━━━━━━━━━━━━━━━━━━\u001b[0m\u001b[37m\u001b[0m \u001b[1m6s\u001b[0m 19ms/step - accuracy: 0.7803 - loss: 0.4860 - val_accuracy: 0.7222 - val_loss: 0.8706\n",
      "Epoch 11/50\n",
      "\u001b[1m287/287\u001b[0m \u001b[32m━━━━━━━━━━━━━━━━━━━━\u001b[0m\u001b[37m\u001b[0m \u001b[1m6s\u001b[0m 22ms/step - accuracy: 0.7904 - loss: 0.4634 - val_accuracy: 0.7305 - val_loss: 0.8957\n",
      "Epoch 12/50\n",
      "\u001b[1m287/287\u001b[0m \u001b[32m━━━━━━━━━━━━━━━━━━━━\u001b[0m\u001b[37m\u001b[0m \u001b[1m6s\u001b[0m 22ms/step - accuracy: 0.7776 - loss: 0.5375 - val_accuracy: 0.7281 - val_loss: 0.8533\n",
      "Epoch 13/50\n",
      "\u001b[1m287/287\u001b[0m \u001b[32m━━━━━━━━━━━━━━━━━━━━\u001b[0m\u001b[37m\u001b[0m \u001b[1m6s\u001b[0m 22ms/step - accuracy: 0.7994 - loss: 0.4373 - val_accuracy: 0.7048 - val_loss: 0.9667\n",
      "Epoch 14/50\n",
      "\u001b[1m287/287\u001b[0m \u001b[32m━━━━━━━━━━━━━━━━━━━━\u001b[0m\u001b[37m\u001b[0m \u001b[1m6s\u001b[0m 22ms/step - accuracy: 0.7890 - loss: 0.4689 - val_accuracy: 0.7124 - val_loss: 0.9575\n",
      "Epoch 15/50\n",
      "\u001b[1m287/287\u001b[0m \u001b[32m━━━━━━━━━━━━━━━━━━━━\u001b[0m\u001b[37m\u001b[0m \u001b[1m6s\u001b[0m 22ms/step - accuracy: 0.8128 - loss: 0.4101 - val_accuracy: 0.7246 - val_loss: 0.9300\n",
      "Epoch 16/50\n",
      "\u001b[1m287/287\u001b[0m \u001b[32m━━━━━━━━━━━━━━━━━━━━\u001b[0m\u001b[37m\u001b[0m \u001b[1m6s\u001b[0m 22ms/step - accuracy: 0.8093 - loss: 0.4074 - val_accuracy: 0.7355 - val_loss: 0.8714\n",
      "Epoch 17/50\n",
      "\u001b[1m287/287\u001b[0m \u001b[32m━━━━━━━━━━━━━━━━━━━━\u001b[0m\u001b[37m\u001b[0m \u001b[1m6s\u001b[0m 22ms/step - accuracy: 0.8198 - loss: 0.3895 - val_accuracy: 0.7146 - val_loss: 0.9428\n"
     ]
    },
    {
     "data": {
      "text/plain": [
       "<keras.src.callbacks.history.History at 0x78b359d69570>"
      ]
     },
     "execution_count": 12,
     "metadata": {},
     "output_type": "execute_result"
    }
   ],
   "source": [
    "# ========== BASECOLOUR MODEL ==========\n",
    "X_train_b, X_test_b, y_train_b, y_test_b, color_scaler = prepare_data(color_df, 'baseColour_encoded')\n",
    "color_class_weights = get_class_weights(y_train_b)\n",
    "color_model = create_mlp_model_for_color(X_train_b.shape[1], output_classes=len(np.unique(y_train_b)))\n",
    "\n",
    "color_model.fit(X_train_b, y_train_b,\n",
    "                validation_data=(X_test_b, y_test_b),\n",
    "                epochs=50,\n",
    "                batch_size=64,\n",
    "                class_weight=color_class_weights,\n",
    "                callbacks=[EarlyStopping(patience=5, restore_best_weights=True)])\n"
   ]
  },
  {
   "cell_type": "code",
   "execution_count": 13,
   "id": "23d4bcc6-afe0-4a63-8d92-eee90bd5521a",
   "metadata": {},
   "outputs": [
    {
     "name": "stdout",
     "output_type": "stream",
     "text": [
      "\u001b[1m144/144\u001b[0m \u001b[32m━━━━━━━━━━━━━━━━━━━━\u001b[0m\u001b[37m\u001b[0m \u001b[1m1s\u001b[0m 5ms/step - accuracy: 0.8884 - loss: 0.3015\n",
      "\u001b[1m144/144\u001b[0m \u001b[32m━━━━━━━━━━━━━━━━━━━━\u001b[0m\u001b[37m\u001b[0m \u001b[1m1s\u001b[0m 5ms/step - accuracy: 0.9972 - loss: 0.0138\n",
      "\u001b[1m144/144\u001b[0m \u001b[32m━━━━━━━━━━━━━━━━━━━━\u001b[0m\u001b[37m\u001b[0m \u001b[1m1s\u001b[0m 5ms/step - accuracy: 0.7275 - loss: 0.8397\n",
      "BaseColour Accuracy: 0.7281\n",
      "Style Accuracy: 0.8767\n",
      "Category Accuracy: 0.9978\n"
     ]
    }
   ],
   "source": [
    "# ========== EVALUATION ==========\n",
    "style_loss, style_acc = style_model.evaluate(X_test_s, y_test_s)\n",
    "category_loss, category_acc = category_model.evaluate(X_test_c, y_test_c)\n",
    "color_loss, color_acc = color_model.evaluate(X_test_b, y_test_b)\n",
    "\n",
    "print(f\"BaseColour Accuracy: {color_acc:.4f}\")\n",
    "print(f\"Style Accuracy: {style_acc:.4f}\")\n",
    "print(f\"Category Accuracy: {category_acc:.4f}\")"
   ]
  },
  {
   "cell_type": "code",
   "execution_count": 14,
   "id": "d3328457-8b43-44b8-a35d-074f58766de1",
   "metadata": {},
   "outputs": [],
   "source": [
    "def plot_confusion(y_true, y_pred, class_names, title):\n",
    "    cm = confusion_matrix(y_true, y_pred)\n",
    "    plt.figure(figsize=(6, 4))\n",
    "    sns.heatmap(cm, annot=True, fmt='d', cmap='Blues',\n",
    "                xticklabels=class_names, yticklabels=class_names)\n",
    "    plt.xlabel('Predicted')\n",
    "    plt.ylabel('Actual')\n",
    "    plt.title(title)\n",
    "    plt.show()\n"
   ]
  },
  {
   "cell_type": "code",
   "execution_count": 15,
   "id": "88e645e8-0d05-4c29-b8f5-e3f507cef5c3",
   "metadata": {},
   "outputs": [],
   "source": [
    "def plot_confusion_matrix_for_color(y_true, y_pred, labels, title=\"Confusion Matrix\"):\n",
    "    cm = confusion_matrix(y_true, y_pred)\n",
    "    plt.figure(figsize=(20, 15))  # adjust for readability\n",
    "    sns.heatmap(cm, annot=False, cmap='Blues',\n",
    "                xticklabels=labels, yticklabels=labels)\n",
    "    plt.xlabel(\"Predicted\")\n",
    "    plt.ylabel(\"Actual\")\n",
    "    plt.title(title)\n",
    "    plt.xticks(rotation=90)\n",
    "    plt.yticks(rotation=0)\n",
    "    plt.tight_layout()\n",
    "    plt.show()\n"
   ]
  },
  {
   "cell_type": "code",
   "execution_count": 16,
   "id": "fe7bcb34-b1e4-494a-960f-361d91961133",
   "metadata": {},
   "outputs": [
    {
     "name": "stdout",
     "output_type": "stream",
     "text": [
      "\u001b[1m144/144\u001b[0m \u001b[32m━━━━━━━━━━━━━━━━━━━━\u001b[0m\u001b[37m\u001b[0m \u001b[1m1s\u001b[0m 4ms/step\n",
      "Classification Report for Style:\n",
      "              precision    recall  f1-score   support\n",
      "\n",
      "      casual       0.96      0.88      0.92      3515\n",
      "      formal       0.72      0.93      0.81       363\n",
      "  sportswear       0.66      0.85      0.74       712\n",
      "\n",
      "    accuracy                           0.88      4590\n",
      "   macro avg       0.78      0.88      0.82      4590\n",
      "weighted avg       0.90      0.88      0.88      4590\n",
      "\n"
     ]
    },
    {
     "data": {
      "image/png": "[encoded data removed]",
      "text/plain": [
       "<Figure size 600x400 with 2 Axes>"
      ]
     },
     "metadata": {},
     "output_type": "display_data"
    }
   ],
   "source": [
    "## Performance Metrics for Style Model\n",
    "y_pred_s = style_model.predict(X_test_s)\n",
    "y_pred_s_classes = y_pred_s.argmax(axis=1)\n",
    "\n",
    "print(\"Classification Report for Style:\")\n",
    "print(classification_report(y_test_s, y_pred_s_classes, target_names=[\"casual\", \"formal\", \"sportswear\"]))\n",
    "\n",
    "plot_confusion(y_test_s, y_pred_s_classes, [\"casual\", \"formal\", \"sportswear\"], \"Confusion Matrix - Style\")\n"
   ]
  },
  {
   "cell_type": "code",
   "execution_count": 17,
   "id": "e8374a98-64e6-4dec-a625-ad800fc72ccd",
   "metadata": {},
   "outputs": [
    {
     "name": "stdout",
     "output_type": "stream",
     "text": [
      "\u001b[1m144/144\u001b[0m \u001b[32m━━━━━━━━━━━━━━━━━━━━\u001b[0m\u001b[37m\u001b[0m \u001b[1m1s\u001b[0m 4ms/step\n",
      "Classification Report for Category:\n",
      "              precision    recall  f1-score   support\n",
      "\n",
      "      bottom       0.99      0.99      0.99       506\n",
      "    footwear       1.00      1.00      1.00      1464\n",
      "         top       1.00      1.00      1.00      2620\n",
      "\n",
      "    accuracy                           1.00      4590\n",
      "   macro avg       1.00      1.00      1.00      4590\n",
      "weighted avg       1.00      1.00      1.00      4590\n",
      "\n"
     ]
    },
    {
     "data": {
      "image/png": "[encoded data removed]",
      "text/plain": [
       "<Figure size 600x400 with 2 Axes>"
      ]
     },
     "metadata": {},
     "output_type": "display_data"
    }
   ],
   "source": [
    "## Performance Metrics for Category Model\n",
    "y_pred_c = category_model.predict(X_test_c)\n",
    "y_pred_c_classes = y_pred_c.argmax(axis=1)\n",
    "\n",
    "print(\"Classification Report for Category:\")\n",
    "print(classification_report(y_test_c, y_pred_c_classes, target_names=[\"bottom\", \"footwear\", \"top\"]))\n",
    "\n",
    "plot_confusion(y_test_c, y_pred_c_classes, [\"bottom\", \"footwear\", \"top\"], \"Confusion Matrix - Category\")\n"
   ]
  },
  {
   "cell_type": "code",
   "execution_count": 18,
   "id": "64fef02d-6054-47d2-930a-a42a0dad52c6",
   "metadata": {},
   "outputs": [
    {
     "name": "stdout",
     "output_type": "stream",
     "text": [
      "\u001b[1m144/144\u001b[0m \u001b[32m━━━━━━━━━━━━━━━━━━━━\u001b[0m\u001b[37m\u001b[0m \u001b[1m1s\u001b[0m 5ms/step\n",
      "Classification Report for Base Colour Prediction:\n",
      "              precision    recall  f1-score   support\n",
      "\n",
      "       Black       0.81      0.78      0.80       949\n",
      "        Blue       0.86      0.69      0.77       900\n",
      "       Brown       0.67      0.66      0.66       377\n",
      "       Green       0.69      0.76      0.73       291\n",
      "        Grey       0.52      0.61      0.56       435\n",
      "       Multi       0.19      0.35      0.25        20\n",
      "      Orange       0.49      0.67      0.57        48\n",
      "        Pink       0.68      0.73      0.70       186\n",
      "      Purple       0.58      0.73      0.65       177\n",
      "         Red       0.75      0.82      0.78       314\n",
      "       White       0.79      0.77      0.78       752\n",
      "      Yellow       0.63      0.77      0.70       141\n",
      "\n",
      "    accuracy                           0.73      4590\n",
      "   macro avg       0.64      0.69      0.66      4590\n",
      "weighted avg       0.74      0.73      0.73      4590\n",
      "\n"
     ]
    },
    {
     "data": {
      "image/png": "[encoded data removed]",
      "text/plain": [
       "<Figure size 2000x1500 with 2 Axes>"
      ]
     },
     "metadata": {},
     "output_type": "display_data"
    }
   ],
   "source": [
    "y_pred_b = color_model.predict(X_test_b)\n",
    "y_pred_b_classes = y_pred_b.argmax(axis=1)\n",
    "\n",
    "print(\"Classification Report for Base Colour Prediction:\")\n",
    "print(classification_report(\n",
    "    y_test_b, y_pred_b_classes,\n",
    "    target_names=[index_to_color[i] for i in sorted(index_to_color.keys())]\n",
    "))\n",
    "\n",
    "plot_confusion_matrix_for_color(y_test_b, y_pred_b_classes,\n",
    "                      labels=[index_to_color[i] for i in sorted(index_to_color.keys())],\n",
    "                      title=\"BaseColour Prediction - Confusion Matrix\")"
   ]
  },
  {
   "cell_type": "code",
   "execution_count": 19,
   "id": "8d452b15-29de-4149-bfa1-caf1340d6a33",
   "metadata": {},
   "outputs": [],
   "source": [
    "import joblib"
   ]
  },
  {
   "cell_type": "code",
   "execution_count": 20,
   "id": "5402836a-da27-46e4-95e9-0ae4a689a797",
   "metadata": {},
   "outputs": [
    {
     "data": {
      "text/plain": [
       "['color_scaler.pkl']"
      ]
     },
     "execution_count": 20,
     "metadata": {},
     "output_type": "execute_result"
    }
   ],
   "source": [
    "# Save Keras models\n",
    "style_model.save(\"style_mlp_model.keras\")\n",
    "category_model.save(\"category_mlp_model.keras\")\n",
    "color_model.save(\"color_mlp_model.keras\")\n",
    "# Save scalers\n",
    "joblib.dump(style_scaler, \"style_scaler.pkl\")\n",
    "joblib.dump(category_scaler, \"category_scaler.pkl\")\n",
    "joblib.dump(color_scaler, \"color_scaler.pkl\")"
   ]
  },
  {
   "cell_type": "code",
   "execution_count": null,
   "id": "aaae4185-3350-4ac7-a84d-b64382a3a17c",
   "metadata": {},
   "outputs": [],
   "source": []
  }
 ],
 "metadata": {
  "kernelspec": {
   "display_name": "Python 3 (ipykernel)",
   "language": "python",
   "name": "python3"
  },
  "language_info": {
   "codemirror_mode": {
    "name": "ipython",
    "version": 3
   },
   "file_extension": ".py",
   "mimetype": "text/x-python",
   "name": "python",
   "nbconvert_exporter": "python",
   "pygments_lexer": "ipython3",
   "version": "3.10.13"
  }
 },
 "nbformat": 4,
 "nbformat_minor": 5
}
